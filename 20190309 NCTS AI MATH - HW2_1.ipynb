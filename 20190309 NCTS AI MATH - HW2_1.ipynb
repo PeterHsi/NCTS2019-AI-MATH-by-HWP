{
 "cells": [
  {
   "cell_type": "markdown",
   "metadata": {},
   "source": [
    "![Q2.1](images/HW_Q2-1.jpg)"
   ]
  },
  {
   "cell_type": "markdown",
   "metadata": {},
   "source": [
    "# 中央極限定理互動"
   ]
  },
  {
   "cell_type": "markdown",
   "metadata": {},
   "source": [
    "中央極限定理 (central limit theorem) 的概念在於，對於一個有 $n$ 個獨立且同分布 (i.i.d.) 之隨機抽樣樣本 $\\{X_1, X_2, \\dots, X_n\\}$，若此樣本母群體之分布期望值為 $\\mu$ 變異數為 $\\sigma^2$，定義其樣本平均數為：\n",
    "\n",
    "$$\n",
    "S_n = \\frac{\\sum_{i=1}^n X_i}{n}\n",
    "$$\n",
    "\n",
    "則無論母群體為何種機率分配，$S_n$ 分布收斂 (converge in distribution) 至常態分布 $N\\left(\\mu, \\frac{\\sigma^2}{n}\\right)$，即：\n",
    "\n",
    "$$\n",
    "S_n \\overset{d}{\\rightarrow} N\\left(\\mu, \\frac{\\sigma^2}{n}\\right)\n",
    "$$"
   ]
  },
  {
   "cell_type": "code",
   "execution_count": 2,
   "metadata": {},
   "outputs": [
    {
     "data": {
      "application/vnd.jupyter.widget-view+json": {
       "model_id": "9a2902a0b665478aadc1c5a35047e1ca",
       "version_major": 2,
       "version_minor": 0
      },
      "text/plain": [
       "interactive(children=(IntSlider(value=100, description='t', max=250, min=50), IntSlider(value=1, description='…"
      ]
     },
     "metadata": {},
     "output_type": "display_data"
    },
    {
     "data": {
      "text/plain": [
       "<function __main__.CLM_plot(t=100, n=1, dist='Standard Normal (mean = 0, var = 1)')>"
      ]
     },
     "execution_count": 2,
     "metadata": {},
     "output_type": "execute_result"
    }
   ],
   "source": [
    "%matplotlib inline\n",
    "\n",
    "import matplotlib.pyplot as plt\n",
    "from scipy.stats import norm\n",
    "import numpy as np\n",
    "import seaborn as sns\n",
    "from ipywidgets import interact\n",
    "\n",
    "def CLM_plot(t=100, n=1, dist=\"Standard Normal (mean = 0, var = 1)\"):\n",
    "    if dist == \"Standard Normal (mean = 0, var = 1)\":\n",
    "        x = np.random.standard_normal((t, n))\n",
    "        mu = 0; sigsq = 1/n; range = [-3, 3]\n",
    "    elif dist == \"Standard Exponential (mean = 1, var = 1)\":\n",
    "        x = np.random.standard_exponential((t, n))\n",
    "        mu = 1; sigsq = 1/n; range = [0, 4]\n",
    "    elif dist == \"Standard Uniform (mean = 1/2, var = 1/12)\":\n",
    "        x = np.random.random_sample((t, n))\n",
    "        mu = 1/2; sigsq = 1/(12*n); range = [0, 1]\n",
    "    s = np.mean(x,1)\n",
    "    x_the = np.linspace(norm.ppf(0.01, loc=mu, scale=sigsq**0.5), norm.ppf(0.99, loc=mu, scale=sigsq**0.5), 100)\n",
    "    sns.distplot(s, label=r'$S_n$')\n",
    "    plt.plot(x_the, norm.pdf(x_the, loc=mu, scale=sigsq**0.5), label=r'$N\\left(\\mu, \\frac{\\sigma^2}{n}\\right)$')\n",
    "    plt.title(\"Sample from: \"+dist); plt.ylabel(\"Density\"); plt.xlabel(r\"$x$\"); plt.legend(loc=\"best\")\n",
    "    plt.xlim((range[0], range[1]))\n",
    "    \n",
    "interact(CLM_plot,\n",
    "         t=(50, 250),\n",
    "         n=(1,50),\n",
    "         dist=[\"Standard Normal (mean = 0, var = 1)\",\n",
    "               \"Standard Exponential (mean = 1, var = 1)\",\n",
    "               \"Standard Uniform (mean = 1/2, var = 1/12)\"]\n",
    "        )"
   ]
  },
  {
   "cell_type": "markdown",
   "metadata": {},
   "source": [
    "拉動 n 的滑桿可以看到當 n 越大時，樣本平均值的分布會越來越不像母體分布而是常態分佈，且越還越密集"
   ]
  }
 ],
 "metadata": {
  "kernelspec": {
   "display_name": "Python 3",
   "language": "python",
   "name": "python3"
  },
  "language_info": {
   "codemirror_mode": {
    "name": "ipython",
    "version": 3
   },
   "file_extension": ".py",
   "mimetype": "text/x-python",
   "name": "python",
   "nbconvert_exporter": "python",
   "pygments_lexer": "ipython3",
   "version": "3.6.8"
  },
  "varInspector": {
   "cols": {
    "lenName": 16,
    "lenType": 16,
    "lenVar": 40
   },
   "kernels_config": {
    "python": {
     "delete_cmd_postfix": "",
     "delete_cmd_prefix": "del ",
     "library": "var_list.py",
     "varRefreshCmd": "print(var_dic_list())"
    },
    "r": {
     "delete_cmd_postfix": ") ",
     "delete_cmd_prefix": "rm(",
     "library": "var_list.r",
     "varRefreshCmd": "cat(var_dic_list()) "
    }
   },
   "types_to_exclude": [
    "module",
    "function",
    "builtin_function_or_method",
    "instance",
    "_Feature"
   ],
   "window_display": false
  }
 },
 "nbformat": 4,
 "nbformat_minor": 2
}
